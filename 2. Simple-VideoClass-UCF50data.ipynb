{
 "cells": [
  {
   "cell_type": "code",
   "execution_count": 1,
   "id": "9a78b446",
   "metadata": {},
   "outputs": [],
   "source": [
    "import os\n",
    "import cv2\n",
    "import math\n",
    "import pafy\n",
    "import random\n",
    "import numpy as np\n",
    "import datetime as dt\n",
    "import tensorflow as tf\n",
    "from moviepy.editor import *\n",
    "from collections import deque\n",
    "import matplotlib.pyplot as plt\n",
    "%matplotlib inline\n",
    " \n",
    "from sklearn.model_selection import train_test_split\n",
    " \n",
    "from tensorflow.keras.layers import *\n",
    "from tensorflow.keras.models import Sequential\n",
    "from tensorflow.keras.utils import to_categorical\n",
    "from tensorflow.keras.callbacks import EarlyStopping\n",
    "from tensorflow.keras.utils import plot_model"
   ]
  },
  {
   "cell_type": "code",
   "execution_count": 2,
   "id": "90d0a85f",
   "metadata": {},
   "outputs": [],
   "source": [
    "seed_constant = 23\n",
    "np.random.seed(seed_constant)\n",
    "random.seed(seed_constant)\n",
    "tf.random.set_seed(seed_constant)"
   ]
  },
  {
   "cell_type": "code",
   "execution_count": 12,
   "id": "0faccd2b",
   "metadata": {},
   "outputs": [],
   "source": [
    "#!wget -nc --no-check-certificate https://www.crcv.ucf.edu/data/UCF50.rar\n",
    "#!unrar x UCF50.rar -inul -y"
   ]
  },
  {
   "cell_type": "code",
   "execution_count": 7,
   "id": "72a9a76f",
   "metadata": {},
   "outputs": [],
   "source": [
    "all_classes_names = os.listdir('UCF50data1')\n",
    "print(all_classes_names)"
   ]
  },
  {
   "cell_type": "code",
   "execution_count": 5,
   "id": "164c2986",
   "metadata": {},
   "outputs": [],
   "source": [
    "# Create a Matplotlib figure\n",
    "plt.figure(figsize = (30, 30))\n",
    " \n",
    "# Get Names of all classes in UCF50\n",
    "all_classes_names = os.listdir('UCF50data1')\n",
    " \n",
    "# Generate a random sample of images each time the cell runs\n",
    "random_range = random.sample(range(len(all_classes_names)), 2)\n",
    " \n",
    "# Iterating through all the random samples\n",
    "for counter, random_index in enumerate(random_range, 1):\n",
    " \n",
    "    # Getting Class Name using Random Index\n",
    "    selected_class_Name = all_classes_names[random_index]\n",
    " \n",
    "    # Getting a list of all the video files present in a Class Directory\n",
    "    video_files_names_list = os.listdir(f'UCF50data1/{selected_class_Name}')\n",
    " \n",
    "    # Randomly selecting a video file\n",
    "    selected_video_file_name = random.choice(video_files_names_list)\n",
    " \n",
    "    # Reading the Video File Using the Video Capture\n",
    "    video_reader = cv2.VideoCapture(f'UCF50data1/{selected_class_Name}/{selected_video_file_name}')\n",
    "     \n",
    "    # Reading The First Frame of the Video File\n",
    "    _, bgr_frame = video_reader.read()\n",
    " \n",
    "    # Closing the VideoCapture object and releasing all resources. \n",
    "    video_reader.release()\n",
    " \n",
    "    # Converting the BGR Frame to RGB Frame \n",
    "    rgb_frame = cv2.cvtColor(bgr_frame, cv2.COLOR_BGR2RGB)\n",
    " \n",
    "    # Adding The Class Name Text on top of the Video Frame.\n",
    "    cv2.putText(rgb_frame, selected_class_Name, (10, 30), cv2.FONT_HERSHEY_SIMPLEX, 1, (255, 0, 0), 2)\n",
    "     \n",
    "    # Assigning the Frame to a specific position of a subplot\n",
    "    plt.subplot(5, 4, counter)\n",
    "    plt.imshow(rgb_frame)\n",
    "    plt.axis('off')"
   ]
  },
  {
   "cell_type": "code",
   "execution_count": 4,
   "id": "5677a76d",
   "metadata": {},
   "outputs": [],
   "source": [
    "image_height, image_width = 64, 64\n",
    "max_images_per_class = 8000\n",
    " \n",
    "dataset_directory = \"UCF50\"\n",
    "classes_list = [\"WalkingWithDog\", \"TaiChi\", \"Swing\", \"HorseRace\"]\n",
    " \n",
    "model_output_size = len(classes_list)"
   ]
  },
  {
   "cell_type": "code",
   "execution_count": 8,
   "id": "35431566",
   "metadata": {},
   "outputs": [],
   "source": [
    "def frames_extraction(video_path):\n",
    "    # Empty List declared to store video frames\n",
    "    frames_list = []\n",
    "     \n",
    "    # Reading the Video File Using the VideoCapture\n",
    "    video_reader = cv2.VideoCapture(video_path)\n",
    " \n",
    "    # Iterating through Video Frames\n",
    "    while True:\n",
    " \n",
    "        # Reading a frame from the video file \n",
    "        success, frame = video_reader.read() \n",
    " \n",
    "        # If Video frame was not successfully read then break the loop\n",
    "        if not success:\n",
    "            break\n",
    " \n",
    "        # Resize the Frame to fixed Dimensions\n",
    "        resized_frame = cv2.resize(frame, (image_height, image_width))\n",
    "         \n",
    "        # Normalize the resized frame by dividing it with 255 so that each pixel value then lies between 0 and 1\n",
    "        normalized_frame = resized_frame / 255\n",
    "         \n",
    "        # Appending the normalized frame into the frames list\n",
    "        frames_list.append(normalized_frame)\n",
    "     \n",
    "    # Closing the VideoCapture object and releasing all resources. \n",
    "    video_reader.release()\n",
    " \n",
    "    # returning the frames list \n",
    "    return frames_list"
   ]
  },
  {
   "cell_type": "code",
   "execution_count": 9,
   "id": "1d25e1be",
   "metadata": {},
   "outputs": [],
   "source": [
    "def create_dataset():\n",
    " \n",
    "    # Declaring Empty Lists to store the features and labels values.\n",
    "    temp_features = [] \n",
    "    features = []\n",
    "    labels = []\n",
    "     \n",
    "    # Iterating through all the classes mentioned in the classes list\n",
    "    for class_index, class_name in enumerate(classes_list):\n",
    "        print(f'Extracting Data of Class: {class_name}')\n",
    "         \n",
    "        # Getting the list of video files present in the specific class name directory\n",
    "        files_list = os.listdir(os.path.join(dataset_directory, class_name))\n",
    " \n",
    "        # Iterating through all the files present in the files list\n",
    "        for file_name in files_list:\n",
    " \n",
    "            # Construct the complete video path\n",
    "            video_file_path = os.path.join(dataset_directory, class_name, file_name)\n",
    " \n",
    "            # Calling the frame_extraction method for every video file path\n",
    "            frames = frames_extraction(video_file_path)\n",
    " \n",
    "            # Appending the frames to a temporary list.\n",
    "            temp_features.extend(frames)\n",
    "         \n",
    "        # Adding randomly selected frames to the features list\n",
    "        features.extend(random.sample(temp_features, max_images_per_class))\n",
    " \n",
    "        # Adding Fixed number of labels to the labels list\n",
    "        labels.extend([class_index] * max_images_per_class)\n",
    "         \n",
    "        # Emptying the temp_features list so it can be reused to store all frames of the next class.\n",
    "        temp_features.clear()\n",
    " \n",
    "    # Converting the features and labels lists to numpy arrays\n",
    "    features = np.asarray(features)\n",
    "    labels = np.array(labels)  \n",
    " \n",
    "    return features, labels"
   ]
  },
  {
   "cell_type": "code",
   "execution_count": 10,
   "id": "f92d1755",
   "metadata": {},
   "outputs": [
    {
     "name": "stdout",
     "output_type": "stream",
     "text": [
      "Extracting Data of Class: WalkingWithDog\n",
      "Extracting Data of Class: TaiChi\n",
      "Extracting Data of Class: Swing\n",
      "Extracting Data of Class: HorseRace\n"
     ]
    }
   ],
   "source": [
    "features, labels = create_dataset()"
   ]
  },
  {
   "cell_type": "code",
   "execution_count": 11,
   "id": "00558c2d",
   "metadata": {},
   "outputs": [],
   "source": [
    "one_hot_encoded_labels = to_categorical(labels)"
   ]
  },
  {
   "cell_type": "code",
   "execution_count": 12,
   "id": "ed58d516",
   "metadata": {},
   "outputs": [
    {
     "name": "stdout",
     "output_type": "stream",
     "text": [
      "Training set shapes:\n",
      "Features: (25600, 64, 64, 3)\n",
      "Labels: (25600,)\n",
      "Testing set shapes:\n",
      "Features: (6400, 64, 64, 3)\n",
      "Labels: (6400,)\n"
     ]
    }
   ],
   "source": [
    "from sklearn.model_selection import train_test_split\n",
    "\n",
    "# Split the data into training and testing sets\n",
    "features_train, features_test, labels_train, labels_test = train_test_split(features, labels, test_size=0.2, random_state=42)\n",
    "\n",
    "# 'features' is your input data (features)\n",
    "# 'labels' is your corresponding output data (labels)\n",
    "# test_size=0.2 specifies that 20% of the data will be used for testing\n",
    "# random_state=42 sets a seed value for reproducibility\n",
    "\n",
    "# Verify the shapes of the data splits\n",
    "print(\"Training set shapes:\")\n",
    "print(\"Features:\", features_train.shape)\n",
    "print(\"Labels:\", labels_train.shape)\n",
    "print(\"Testing set shapes:\")\n",
    "print(\"Features:\", features_test.shape)\n",
    "print(\"Labels:\", labels_test.shape)"
   ]
  },
  {
   "cell_type": "code",
   "execution_count": 13,
   "id": "a30c077e",
   "metadata": {},
   "outputs": [
    {
     "name": "stdout",
     "output_type": "stream",
     "text": [
      "Model: \"sequential\"\n",
      "_________________________________________________________________\n",
      " Layer (type)                Output Shape              Param #   \n",
      "=================================================================\n",
      " conv2d (Conv2D)             (None, 62, 62, 64)        1792      \n",
      "                                                                 \n",
      " conv2d_1 (Conv2D)           (None, 60, 60, 64)        36928     \n",
      "                                                                 \n",
      " batch_normalization (BatchN  (None, 60, 60, 64)       256       \n",
      " ormalization)                                                   \n",
      "                                                                 \n",
      " max_pooling2d (MaxPooling2D  (None, 30, 30, 64)       0         \n",
      " )                                                               \n",
      "                                                                 \n",
      " global_average_pooling2d (G  (None, 64)               0         \n",
      " lobalAveragePooling2D)                                          \n",
      "                                                                 \n",
      " dense (Dense)               (None, 256)               16640     \n",
      "                                                                 \n",
      " batch_normalization_1 (Batc  (None, 256)              1024      \n",
      " hNormalization)                                                 \n",
      "                                                                 \n",
      " dense_1 (Dense)             (None, 4)                 1028      \n",
      "                                                                 \n",
      "=================================================================\n",
      "Total params: 57,668\n",
      "Trainable params: 57,028\n",
      "Non-trainable params: 640\n",
      "_________________________________________________________________\n",
      "Model Created Successfully!\n"
     ]
    },
    {
     "name": "stderr",
     "output_type": "stream",
     "text": [
      "2023-06-07 13:45:28.824230: I tensorflow/core/platform/cpu_feature_guard.cc:193] This TensorFlow binary is optimized with oneAPI Deep Neural Network Library (oneDNN) to use the following CPU instructions in performance-critical operations:  SSE4.1 SSE4.2\n",
      "To enable them in other operations, rebuild TensorFlow with the appropriate compiler flags.\n"
     ]
    }
   ],
   "source": [
    "#Let's create a function that will construct our model\n",
    "def create_model():\n",
    " \n",
    "    # We will use a Sequential model for model construction\n",
    "    model = Sequential()\n",
    " \n",
    "    # Defining The Model Architecture\n",
    "    model.add(Conv2D(filters = 64, kernel_size = (3, 3), activation = 'relu', input_shape = (image_height, image_width, 3)))\n",
    "    model.add(Conv2D(filters = 64, kernel_size = (3, 3), activation = 'relu'))\n",
    "    model.add(BatchNormalization())\n",
    "    model.add(MaxPooling2D(pool_size = (2, 2)))\n",
    "    model.add(GlobalAveragePooling2D())\n",
    "    model.add(Dense(256, activation = 'relu'))\n",
    "    model.add(BatchNormalization())\n",
    "    model.add(Dense(model_output_size, activation = 'softmax'))\n",
    " \n",
    "    # Printing the models summary\n",
    "    model.summary()\n",
    " \n",
    "    return model\n",
    " \n",
    " # Calling the create_model method\n",
    "model = create_model()\n",
    " \n",
    "print(\"Model Created Successfully!\")"
   ]
  },
  {
   "cell_type": "code",
   "execution_count": 17,
   "id": "87fdd2aa",
   "metadata": {},
   "outputs": [
    {
     "name": "stdout",
     "output_type": "stream",
     "text": [
      "You must install pydot (`pip install pydot`) and install graphviz (see instructions at https://graphviz.gitlab.io/download/) for plot_model to work.\n"
     ]
    }
   ],
   "source": [
    "plot_model(model, to_file = 'model_structure_plot.png', show_shapes = True, show_layer_names = True)"
   ]
  },
  {
   "cell_type": "code",
   "execution_count": 18,
   "id": "d8219466",
   "metadata": {},
   "outputs": [
    {
     "name": "stdout",
     "output_type": "stream",
     "text": [
      "You must install pydot (`pip install pydot`) and install graphviz (see instructions at https://graphviz.gitlab.io/download/) for plot_model to work.\n"
     ]
    }
   ],
   "source": [
    "plot_model(model, show_shapes = True, show_layer_names = True)"
   ]
  },
  {
   "cell_type": "code",
   "execution_count": 16,
   "id": "c8a26a3a",
   "metadata": {},
   "outputs": [
    {
     "name": "stdout",
     "output_type": "stream",
     "text": [
      "Requirement already satisfied: pydot in /Users/zaarr/opt/anaconda3/envs/Tensorflow_env/lib/python3.9/site-packages (1.4.2)\n",
      "Requirement already satisfied: pyparsing>=2.1.4 in /Users/zaarr/opt/anaconda3/envs/Tensorflow_env/lib/python3.9/site-packages (from pydot) (3.0.9)\n",
      "Note: you may need to restart the kernel to use updated packages.\n"
     ]
    }
   ],
   "source": [
    "pip install pydot"
   ]
  },
  {
   "cell_type": "code",
   "execution_count": 19,
   "id": "64809635",
   "metadata": {},
   "outputs": [
    {
     "name": "stdout",
     "output_type": "stream",
     "text": [
      "Epoch 1/50\n",
      "5120/5120 [==============================] - 189s 37ms/step - loss: 0.8737 - accuracy: 0.6495 - val_loss: 0.8387 - val_accuracy: 0.7260\n",
      "Epoch 2/50\n",
      "5120/5120 [==============================] - 190s 37ms/step - loss: 0.5280 - accuracy: 0.8087 - val_loss: 0.4247 - val_accuracy: 0.8529\n",
      "Epoch 3/50\n",
      "5120/5120 [==============================] - 187s 37ms/step - loss: 0.3929 - accuracy: 0.8641 - val_loss: 0.4798 - val_accuracy: 0.8719\n",
      "Epoch 4/50\n",
      "5120/5120 [==============================] - 189s 37ms/step - loss: 0.3250 - accuracy: 0.8865 - val_loss: 0.3580 - val_accuracy: 0.9113\n",
      "Epoch 5/50\n",
      "5120/5120 [==============================] - 189s 37ms/step - loss: 0.2862 - accuracy: 0.9013 - val_loss: 0.7317 - val_accuracy: 0.7375\n",
      "Epoch 6/50\n",
      "5120/5120 [==============================] - 189s 37ms/step - loss: 0.2467 - accuracy: 0.9166 - val_loss: 0.0938 - val_accuracy: 0.9656\n",
      "Epoch 7/50\n",
      "5120/5120 [==============================] - 188s 37ms/step - loss: 0.2343 - accuracy: 0.9224 - val_loss: 0.2955 - val_accuracy: 0.8809\n",
      "Epoch 8/50\n",
      "5120/5120 [==============================] - 187s 36ms/step - loss: 0.2110 - accuracy: 0.9304 - val_loss: 0.2441 - val_accuracy: 0.9209\n",
      "Epoch 9/50\n",
      "5120/5120 [==============================] - 186s 36ms/step - loss: 0.1988 - accuracy: 0.9367 - val_loss: 0.2107 - val_accuracy: 0.9410\n",
      "Epoch 10/50\n",
      "5120/5120 [==============================] - 192s 37ms/step - loss: 0.1801 - accuracy: 0.9418 - val_loss: 0.1404 - val_accuracy: 0.9787\n",
      "Epoch 11/50\n",
      "5120/5120 [==============================] - 190s 37ms/step - loss: 0.1814 - accuracy: 0.9416 - val_loss: 0.8554 - val_accuracy: 0.8488\n",
      "Epoch 12/50\n",
      "5120/5120 [==============================] - 189s 37ms/step - loss: 0.1626 - accuracy: 0.9490 - val_loss: 0.0947 - val_accuracy: 0.9715\n",
      "Epoch 13/50\n",
      "5120/5120 [==============================] - 188s 37ms/step - loss: 0.1700 - accuracy: 0.9449 - val_loss: 0.0500 - val_accuracy: 0.9830\n",
      "Epoch 14/50\n",
      "5120/5120 [==============================] - 236s 46ms/step - loss: 0.1574 - accuracy: 0.9494 - val_loss: 0.1337 - val_accuracy: 0.9545\n",
      "Epoch 15/50\n",
      "5120/5120 [==============================] - 148s 29ms/step - loss: 0.1494 - accuracy: 0.9538 - val_loss: 0.3451 - val_accuracy: 0.9523\n",
      "Epoch 16/50\n",
      "5120/5120 [==============================] - 130s 25ms/step - loss: 0.1544 - accuracy: 0.9527 - val_loss: 0.0703 - val_accuracy: 0.9785\n",
      "Epoch 17/50\n",
      "5120/5120 [==============================] - 325s 63ms/step - loss: 0.1520 - accuracy: 0.9534 - val_loss: 0.0858 - val_accuracy: 0.9807\n",
      "Epoch 18/50\n",
      "5120/5120 [==============================] - 248s 49ms/step - loss: 0.1522 - accuracy: 0.9516 - val_loss: 0.1339 - val_accuracy: 0.9865\n",
      "Epoch 19/50\n",
      "5120/5120 [==============================] - 131s 26ms/step - loss: 0.1457 - accuracy: 0.9546 - val_loss: 0.0863 - val_accuracy: 0.9719\n",
      "Epoch 20/50\n",
      "5120/5120 [==============================] - 131s 26ms/step - loss: 0.1318 - accuracy: 0.9592 - val_loss: 0.0667 - val_accuracy: 0.9904\n",
      "Epoch 21/50\n",
      "5120/5120 [==============================] - 398s 78ms/step - loss: 0.1203 - accuracy: 0.9633 - val_loss: 0.0236 - val_accuracy: 0.9928\n",
      "Epoch 22/50\n",
      "5120/5120 [==============================] - 131s 26ms/step - loss: 0.1358 - accuracy: 0.9600 - val_loss: 0.0568 - val_accuracy: 0.9811\n",
      "Epoch 23/50\n",
      "5120/5120 [==============================] - 130s 25ms/step - loss: 0.1262 - accuracy: 0.9623 - val_loss: 0.0672 - val_accuracy: 0.9766\n",
      "Epoch 24/50\n",
      "5120/5120 [==============================] - 130s 25ms/step - loss: 0.1221 - accuracy: 0.9622 - val_loss: 0.0495 - val_accuracy: 0.9861\n",
      "Epoch 25/50\n",
      "5120/5120 [==============================] - 129s 25ms/step - loss: 0.1218 - accuracy: 0.9631 - val_loss: 0.2046 - val_accuracy: 0.9482\n",
      "Epoch 26/50\n",
      "5120/5120 [==============================] - 129s 25ms/step - loss: 0.1200 - accuracy: 0.9641 - val_loss: 0.0999 - val_accuracy: 0.9656\n",
      "Epoch 27/50\n",
      "5120/5120 [==============================] - 265s 52ms/step - loss: 0.1202 - accuracy: 0.9634 - val_loss: 0.0645 - val_accuracy: 0.9916\n",
      "Epoch 28/50\n",
      "5120/5120 [==============================] - 129s 25ms/step - loss: 0.1169 - accuracy: 0.9633 - val_loss: 0.0441 - val_accuracy: 0.9871\n",
      "Epoch 29/50\n",
      "5120/5120 [==============================] - 132s 26ms/step - loss: 0.1148 - accuracy: 0.9660 - val_loss: 0.0719 - val_accuracy: 0.9791\n",
      "Epoch 30/50\n",
      "5120/5120 [==============================] - 132s 26ms/step - loss: 0.1144 - accuracy: 0.9659 - val_loss: 0.1102 - val_accuracy: 0.9842\n",
      "Epoch 31/50\n",
      "5120/5120 [==============================] - 132s 26ms/step - loss: 0.1112 - accuracy: 0.9663 - val_loss: 0.1385 - val_accuracy: 0.9801\n",
      "Epoch 32/50\n",
      "5120/5120 [==============================] - 132s 26ms/step - loss: 0.1087 - accuracy: 0.9673 - val_loss: 0.0314 - val_accuracy: 0.9893\n",
      "Epoch 33/50\n",
      "5120/5120 [==============================] - 132s 26ms/step - loss: 0.1006 - accuracy: 0.9692 - val_loss: 0.0884 - val_accuracy: 0.9730\n",
      "Epoch 34/50\n",
      "5120/5120 [==============================] - 132s 26ms/step - loss: 0.0951 - accuracy: 0.9709 - val_loss: 0.0794 - val_accuracy: 0.9852\n",
      "Epoch 35/50\n",
      "5120/5120 [==============================] - 131s 26ms/step - loss: 0.1067 - accuracy: 0.9675 - val_loss: 0.0676 - val_accuracy: 0.9924\n",
      "Epoch 36/50\n",
      "5120/5120 [==============================] - 133s 26ms/step - loss: 0.1055 - accuracy: 0.9668 - val_loss: 0.1063 - val_accuracy: 0.9967\n"
     ]
    }
   ],
   "source": [
    "# Adding Early Stopping Callback\n",
    "from keras.utils import to_categorical\n",
    "\n",
    "# Convert labels to one-hot encoded format\n",
    "labels_train_encoded = to_categorical(labels_train)\n",
    "\n",
    "# Define and compile your model\n",
    "\n",
    "# Start Training\n",
    "\n",
    "\n",
    "\n",
    "\n",
    "early_stopping_callback = EarlyStopping(monitor = 'val_loss', patience = 15, mode = 'min', restore_best_weights = True)\n",
    " \n",
    "# Adding loss, optimizer and metrics values to the model.\n",
    "model.compile(loss = 'categorical_crossentropy', optimizer = 'Adam', metrics = [\"accuracy\"])\n",
    " \n",
    "# Start Training\n",
    "model_training_history = model.fit(x=features_train, y=labels_train_encoded, epochs=50, batch_size=4, shuffle=True, validation_split=0.2, callbacks=[early_stopping_callback])"
   ]
  },
  {
   "cell_type": "code",
   "execution_count": 21,
   "id": "6c649ea2",
   "metadata": {},
   "outputs": [
    {
     "name": "stdout",
     "output_type": "stream",
     "text": [
      "200/200 [==============================] - 8s 39ms/step - loss: 0.0215 - accuracy: 0.9936\n"
     ]
    }
   ],
   "source": [
    "\n",
    "# Convert labels to one-hot encoded format\n",
    "labels_test_encoded = to_categorical(labels_test)\n",
    "\n",
    "# Evaluate the model\n",
    "model_evaluation_history = model.evaluate(features_test, labels_test_encoded)\n",
    "\n",
    "\n",
    "\n",
    "#model_evaluation_history = model.evaluate(features_test, labels_test)"
   ]
  },
  {
   "cell_type": "code",
   "execution_count": 23,
   "id": "ba60b0e5",
   "metadata": {},
   "outputs": [],
   "source": [
    "date_time_format = '%Y_%m_%d__%H_%M_%S'\n",
    "current_date_time_dt = dt.datetime.now()\n",
    "current_date_time_string = dt.datetime.strftime(current_date_time_dt, date_time_format)\n",
    "model_evaluation_loss, model_evaluation_accuracy = model_evaluation_history\n",
    "model_name = f'Model___Date_Time_{current_date_time_string}___Loss_{model_evaluation_loss}___Accuracy_{model_evaluation_accuracy}.h5'\n",
    "\n",
    "# Saving your Model\n",
    "model.save(model_name)\n"
   ]
  },
  {
   "cell_type": "code",
   "execution_count": 24,
   "id": "1a4d8195",
   "metadata": {},
   "outputs": [],
   "source": [
    "def plot_metric(metric_name_1, metric_name_2, plot_name):\n",
    "  # Get Metric values using metric names as identifiers\n",
    "    metric_value_1 = model_training_history.history[metric_name_1]\n",
    "    metric_value_2 = model_training_history.history[metric_name_2]\n",
    " \n",
    "  # Constructing a range object which will be used as time \n",
    "    epochs = range(len(metric_value_1))\n",
    "   \n",
    "  # Plotting the Graph\n",
    "    plt.plot(epochs, metric_value_1, 'blue', label = metric_name_1)\n",
    "    plt.plot(epochs, metric_value_2, 'red', label = metric_name_2)\n",
    "   \n",
    "  # Adding title to the plot\n",
    "    plt.title(str(plot_name))\n",
    " \n",
    "  # Adding legend to the plot\n",
    "    plt.legend()"
   ]
  },
  {
   "cell_type": "code",
   "execution_count": 25,
   "id": "96022ecb",
   "metadata": {},
   "outputs": [
    {
     "data": {
      "image/png": "[encoded data removed]",
      "text/plain": [
       "<Figure size 640x480 with 1 Axes>"
      ]
     },
     "metadata": {},
     "output_type": "display_data"
    }
   ],
   "source": [
    "plot_metric('loss', 'val_loss', 'Total Loss vs Total Validation Loss')"
   ]
  },
  {
   "cell_type": "code",
   "execution_count": 26,
   "id": "ff5144f4",
   "metadata": {},
   "outputs": [
    {
     "data": {
      "image/png": "[encoded data removed]",
      "text/plain": [
       "<Figure size 640x480 with 1 Axes>"
      ]
     },
     "metadata": {},
     "output_type": "display_data"
    }
   ],
   "source": [
    "plot_metric('accuracy', 'val_accuracy', 'Total Accuracy vs Total Validation Accuracy')"
   ]
  },
  {
   "cell_type": "code",
   "execution_count": null,
   "id": "3714243d",
   "metadata": {},
   "outputs": [],
   "source": []
  }
 ],
 "metadata": {
  "kernelspec": {
   "display_name": "Python 3 (ipykernel)",
   "language": "python",
   "name": "python3"
  },
  "language_info": {
   "codemirror_mode": {
    "name": "ipython",
    "version": 3
   },
   "file_extension": ".py",
   "mimetype": "text/x-python",
   "name": "python",
   "nbconvert_exporter": "python",
   "pygments_lexer": "ipython3",
   "version": "3.9.16"
  }
 },
 "nbformat": 4,
 "nbformat_minor": 5
}
